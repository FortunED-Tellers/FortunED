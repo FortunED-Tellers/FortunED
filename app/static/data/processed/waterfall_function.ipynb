{
 "cells": [
  {
   "cell_type": "code",
   "execution_count": 1,
   "metadata": {},
   "outputs": [],
   "source": [
    "import pandas as pd\n",
    "import pprint as pp"
   ]
  },
  {
   "cell_type": "code",
   "execution_count": 2,
   "metadata": {},
   "outputs": [],
   "source": [
    "# state='Alaska'\n",
    "# majorCategory=\"Social Science\"\n",
    "# debt=80000"
   ]
  },
  {
   "cell_type": "code",
   "execution_count": 3,
   "metadata": {},
   "outputs": [],
   "source": [
    "def whaterfall(state,majorCategory,debt):\n",
    "    import pymongo\n",
    "\n",
    "    # Create connection variable\n",
    "    conn = 'mongodb://localhost:27017'\n",
    "\n",
    "    # Pass connection to the pymongo instance.\n",
    "    dbconn = pymongo.MongoClient(conn)\n",
    "\n",
    "    # Connect to a database. Will create one if not already available.\n",
    "    db = dbconn.FortunEd\n",
    "\n",
    "\n",
    "\n",
    "    state_wages = db.StateWage\n",
    "\n",
    "    state_wage_list = []\n",
    "    state_wage_list = list(state_wages.find())\n",
    "    result_values = [i[state] for i in state_wage_list if state in i]\n",
    "    result =result_values[0]\n",
    "    living_wage_split = result['living wage'].split(\"$\")[1].split(\",\")\n",
    "    wage_state =pd.to_numeric(''.join(map(str, living_wage_split)),errors='coerce') \n",
    "\n",
    "    wage_state\n",
    "\n",
    "    MClist=[]\n",
    "    majorCatList=list(result.values())\n",
    "    majorCatList = majorCatList[2:]\n",
    "    for MC in majorCatList:\n",
    "        if MC['Major_Category']==majorCategory:\n",
    "            salaryUnformated=MC['Average_Annual_Salary'].split(\"$\")[1].split(\",\")\n",
    "            salary_list=pd.to_numeric(''.join(map(str,salaryUnformated)),errors='coerce')\n",
    "            MClist.append(salary_list)\n",
    "\n",
    "    salary=sum(MClist)/len(MClist)\n",
    "\n",
    "    # salary, wage_state & debt\n",
    "\n",
    "    paymentYear={}\n",
    "    paymentYear['Year 0']={\"Payed\":0,\n",
    "                    'Remaining':debt*(-1)}\n",
    "\n",
    "    # time_to_repay = debt/((salary - wage_state)*0.3)\n",
    "    # time_to_repay=round(time_to_repay,0)\n",
    "    debtCount = debt*(-1)\n",
    "    count=1\n",
    "    while (debtCount<0):\n",
    "        year=f'Year {count}'\n",
    "        pay = (salary-wage_state)*0.3 - (debtCount*(-1)*0.06)\n",
    "        debtCount=debtCount+pay\n",
    "        paymentYear[year]={'Payed':round(pay,2),\"Remaining\":round(debtCount,2)}\n",
    "        count+=1\n",
    "    paymentYear[year]={'Payed':round(paymentYear[f'Year {count-2}']['Remaining']*(-1),2),\"Remaining\":0}\n",
    "    \n",
    "    return paymentYear"
   ]
  },
  {
   "cell_type": "code",
   "execution_count": 5,
   "metadata": {},
   "outputs": [
    {
     "data": {
      "text/plain": [
       "{'Year 0': {'Payed': 0, 'Remaining': -80000},\n",
       " 'Year 1': {'Payed': 8825.7, 'Remaining': -71174.3},\n",
       " 'Year 2': {'Payed': 9355.24, 'Remaining': -61819.06},\n",
       " 'Year 3': {'Payed': 9916.56, 'Remaining': -51902.5},\n",
       " 'Year 4': {'Payed': 10511.55, 'Remaining': -41390.95},\n",
       " 'Year 5': {'Payed': 11142.24, 'Remaining': -30248.71},\n",
       " 'Year 6': {'Payed': 11810.78, 'Remaining': -18437.93},\n",
       " 'Year 7': {'Payed': 12519.42, 'Remaining': -5918.51},\n",
       " 'Year 8': {'Payed': 5918.51, 'Remaining': 0}}"
      ]
     },
     "execution_count": 5,
     "metadata": {},
     "output_type": "execute_result"
    }
   ],
   "source": [
    "whaterfall('Alaska',\"Social Science\",80000)"
   ]
  },
  {
   "cell_type": "code",
   "execution_count": null,
   "metadata": {},
   "outputs": [],
   "source": [
    "\n"
   ]
  },
  {
   "cell_type": "code",
   "execution_count": null,
   "metadata": {},
   "outputs": [],
   "source": []
  }
 ],
 "metadata": {
  "kernelspec": {
   "display_name": "Python 3",
   "language": "python",
   "name": "python3"
  },
  "language_info": {
   "codemirror_mode": {
    "name": "ipython",
    "version": 3
   },
   "file_extension": ".py",
   "mimetype": "text/x-python",
   "name": "python",
   "nbconvert_exporter": "python",
   "pygments_lexer": "ipython3",
   "version": "3.7.4"
  }
 },
 "nbformat": 4,
 "nbformat_minor": 2
}
