{
 "cells": [
  {
   "cell_type": "code",
   "execution_count": 19,
   "metadata": {},
   "outputs": [],
   "source": [
    "def get_pay_off_period_variation(State,Major_Category,Debt):\n",
    "    import pandas as pd\n",
    "#     from statistics import mean\n",
    "    import math\n",
    "    \n",
    "    # Import our pymongo library, which lets us connect our Flask app to our Mongo database.\n",
    "    import pymongo\n",
    "\n",
    "    from bson.json_util import dumps\n",
    "\n",
    "\n",
    "    # Create connection variable\n",
    "    conn = \"mongodb://localhost:27017\"\n",
    "\n",
    "    # Pass connection to the pymongo instance.\n",
    "    dbconn = pymongo.MongoClient(conn)\n",
    "\n",
    "    # Connect to a database. Will create one if not already available.\n",
    "    db = dbconn.FortunEd\n",
    "\n",
    "    state_wages = db.StateWage\n",
    "\n",
    "    state_wage_list = list(state_wages.find())\n",
    "    state_values = [i[State] for i in state_wage_list if State in i]\n",
    "    state_dict = state_values[0]\n",
    "    living_wage_split = state_dict['living wage'].split(\"$\")[1].split(\",\")\n",
    "    living_wage =pd.to_numeric(''.join(map(str, living_wage_split)),errors='coerce') \n",
    "\n",
    "    majors_list = [i for i in state_dict.values() if 'Major_Category' in i]\n",
    "    salary_list = []\n",
    "    for  MC in majors_list:\n",
    "        if MC['Major_Category']==Major_Category:\n",
    "            salaryUnformated=MC['Average_Annual_Salary'].split(\"$\")[1].split(\",\")\n",
    "            salary=pd.to_numeric(''.join(map(str,salaryUnformated)),errors='coerce')\n",
    "            salary_list.append(salary)\n",
    "    annual_salary = sum(salary_list)/len(salary_list)\n",
    "    Percentages = [20, 30, 50]\n",
    "    time_to_repay = []\n",
    "    for percent in Percentages:\n",
    "        time =math.ceil(int(Debt)/((annual_salary-living_wage)*percent/100))\n",
    "        time_to_repay.append(time)\n",
    "    pay_off_dict = {\"state\":State,\n",
    "                   \"living_wage\":living_wage,\n",
    "                   \"major_category\":Major_Category,\n",
    "                   \"annual_salary\":annual_salary,\n",
    "                   \"Debt\":int(Debt),\n",
    "                   \"Percentages\":Percentages,\n",
    "                   \"time_to_repay\":time_to_repay}\n",
    "\n",
    "    return pay_off_dict"
   ]
  },
  {
   "cell_type": "code",
   "execution_count": 22,
   "metadata": {},
   "outputs": [
    {
     "data": {
      "text/plain": [
       "{'state': 'Alaska',\n",
       " 'living_wage': 26528,\n",
       " 'major_category': 'Agriculture & Natural Resources',\n",
       " 'annual_salary': 42408.0,\n",
       " 'Debt': 50000,\n",
       " 'Percentages': [20, 30, 50],\n",
       " 'time_to_repay': [16, 11, 7]}"
      ]
     },
     "execution_count": 22,
     "metadata": {},
     "output_type": "execute_result"
    }
   ],
   "source": [
    "get_pay_off_period_variation(\"Alaska\",\"Agriculture & Natural Resources\",50000)"
   ]
  },
  {
   "cell_type": "code",
   "execution_count": null,
   "metadata": {},
   "outputs": [],
   "source": []
  }
 ],
 "metadata": {
  "kernelspec": {
   "display_name": "Python 3",
   "language": "python",
   "name": "python3"
  },
  "language_info": {
   "codemirror_mode": {
    "name": "ipython",
    "version": 3
   },
   "file_extension": ".py",
   "mimetype": "text/x-python",
   "name": "python",
   "nbconvert_exporter": "python",
   "pygments_lexer": "ipython3",
   "version": "3.7.4"
  }
 },
 "nbformat": 4,
 "nbformat_minor": 2
}
