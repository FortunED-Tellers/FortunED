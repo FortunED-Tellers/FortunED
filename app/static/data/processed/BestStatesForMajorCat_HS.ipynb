{
 "cells": [
  {
   "cell_type": "code",
   "execution_count": 5,
   "metadata": {},
   "outputs": [],
   "source": [
    "import pandas as pd\n",
    "import pprint as pp"
   ]
  },
  {
   "cell_type": "code",
   "execution_count": 6,
   "metadata": {},
   "outputs": [],
   "source": [
    "state='Alaska'\n",
    "majorCategory=\"Business\"\n",
    "debt=80000"
   ]
  },
  {
   "cell_type": "code",
   "execution_count": 23,
   "metadata": {},
   "outputs": [
    {
     "data": {
      "text/plain": [
       "{'District of Columbia': 60569.0,\n",
       " 'New York': 50682.0,\n",
       " 'Connecticut': 50306.0,\n",
       " 'Massachusetts': 50143.333333333336,\n",
       " 'Washington': 49753.333333333336}"
      ]
     },
     "execution_count": 23,
     "metadata": {},
     "output_type": "execute_result"
    }
   ],
   "source": [
    "def bestIncomeStates():\n",
    "    import pymongo\n",
    "\n",
    "    # Create connection variable\n",
    "    conn = 'mongodb://localhost:27017'\n",
    "\n",
    "    # Pass connection to the pymongo instance.\n",
    "    dbconn = pymongo.MongoClient(conn)\n",
    "\n",
    "    # Connect to a database. Will create one if not already available.\n",
    "    db = dbconn.FortunEd\n",
    "\n",
    "\n",
    "\n",
    "    state_wages = db.StateWage\n",
    "\n",
    "    state_wage_list = list(state_wages.find())\n",
    "\n",
    "    incomeByState={}\n",
    "\n",
    "    for state in state_wage_list:\n",
    "        for key, value in state.items():\n",
    "            if key == \"_id\":\n",
    "                next\n",
    "            else:\n",
    "                state= key\n",
    "                listMajors=list(value.values())\n",
    "                listMajors = listMajors[2:]\n",
    "                majorsCatList=[]\n",
    "                for MC in listMajors:\n",
    "                    if MC['Major_Category'] == majorCategory:\n",
    "                        salaryUnformated=MC['Average_Annual_Salary'].split(\"$\")[1].split(\",\")\n",
    "                        salary_list=pd.to_numeric(''.join(map(str,salaryUnformated)),errors='coerce')\n",
    "                        majorsCatList.append(salary_list)\n",
    "\n",
    "                salary=sum(majorsCatList)/len(majorsCatList)\n",
    "\n",
    "                incomeByState[state]=salary\n",
    "\n",
    "    incomeByState=sorted(incomeByState.items(), key=lambda x: x[1],reverse=True)\n",
    "\n",
    "    stateAndIncome={}\n",
    "    for i in range(5):\n",
    "        stateAndIncome[incomeByState[i][0]]=incomeByState[i][1]\n",
    "\n",
    "    return stateAndIncome"
   ]
  },
  {
   "cell_type": "code",
   "execution_count": null,
   "metadata": {},
   "outputs": [],
   "source": []
  }
 ],
 "metadata": {
  "kernelspec": {
   "display_name": "Python 3",
   "language": "python",
   "name": "python3"
  },
  "language_info": {
   "codemirror_mode": {
    "name": "ipython",
    "version": 3
   },
   "file_extension": ".py",
   "mimetype": "text/x-python",
   "name": "python",
   "nbconvert_exporter": "python",
   "pygments_lexer": "ipython3",
   "version": "3.7.4"
  }
 },
 "nbformat": 4,
 "nbformat_minor": 2
}
